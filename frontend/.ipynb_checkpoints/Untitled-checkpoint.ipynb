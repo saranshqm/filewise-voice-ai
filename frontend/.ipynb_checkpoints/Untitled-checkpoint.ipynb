{
 "cells": [
  {
   "cell_type": "code",
   "execution_count": null,
   "id": "02cd59fd-adb2-473a-95f8-0c11ba4849f3",
   "metadata": {},
   "outputs": [],
   "source": [
    "### make an app for the below, connect with backend"
   ]
  },
  {
   "cell_type": "code",
   "execution_count": null,
   "id": "6462a143-cd49-447e-b7fa-d1b4c6fc38ea",
   "metadata": {},
   "outputs": [
    {
     "name": "stdout",
     "output_type": "stream",
     "text": [
      "Listening for wake word...\n",
      "Heard: jarvis\n",
      "Wake word 'jarvis' detected!\n",
      "Listening for command...\n",
      "You said: list all files\n",
      "Listening for wake word...\n",
      "Heard: jarvis\n",
      "Wake word 'jarvis' detected!\n",
      "Listening for command...\n",
      "You said: how r u\n",
      "Listening for wake word...\n",
      "Heard: jarvis\n",
      "Wake word 'jarvis' detected!\n",
      "Listening for command...\n",
      "You said: hello\n",
      "Listening for wake word...\n"
     ]
    }
   ],
   "source": [
    "import speech_recognition as sr\n",
    "\n",
    "# Initialize recognizer\n",
    "recognizer = sr.Recognizer()\n",
    "microphone = sr.Microphone()\n",
    "\n",
    "# Wake words\n",
    "WAKE_WORDS = [\"jarvis\", \"javis\",\"jar\"]\n",
    "\n",
    "def listen_for_wake_word():\n",
    "    print(\"Listening for wake word...\")\n",
    "    with microphone as source:\n",
    "        recognizer.adjust_for_ambient_noise(source)\n",
    "        while True:\n",
    "            try:\n",
    "                audio = recognizer.listen(source, timeout=1, phrase_time_limit=5)\n",
    "                text = recognizer.recognize_google(audio).lower()\n",
    "                print(f\"Heard: {text}\")\n",
    "                for wake_word in WAKE_WORDS:\n",
    "                    if wake_word in text:\n",
    "                        print(f\"Wake word '{wake_word}' detected!\")\n",
    "                        return\n",
    "            except sr.WaitTimeoutError:\n",
    "                pass  # No speech detected within timeout\n",
    "            except sr.UnknownValueError:\n",
    "                pass  # Speech was unintelligible\n",
    "            except sr.RequestError as e:\n",
    "                print(f\"Could not request results; {e}\")\n",
    "\n",
    "def listen_for_command():\n",
    "    print(\"Listening for command...\")\n",
    "    with microphone as source:\n",
    "        recognizer.adjust_for_ambient_noise(source)\n",
    "        try:\n",
    "            audio = recognizer.listen(source, timeout=5, phrase_time_limit=10)\n",
    "            command = recognizer.recognize_google(audio)\n",
    "            print(f\"You said: {command}\")\n",
    "        except sr.UnknownValueError:\n",
    "            print(\"Sorry, could not understand your command.\")\n",
    "        except sr.RequestError as e:\n",
    "            print(f\"Could not request results; {e}\")\n",
    "\n",
    "if __name__ == \"__main__\":\n",
    "    while True:\n",
    "        listen_for_wake_word()\n",
    "        listen_for_command()\n"
   ]
  },
  {
   "cell_type": "code",
   "execution_count": null,
   "id": "24ce317a-9977-4203-9698-8623d3feb00f",
   "metadata": {},
   "outputs": [],
   "source": []
  }
 ],
 "metadata": {
  "kernelspec": {
   "display_name": "Python 3 (ipykernel)",
   "language": "python",
   "name": "python3"
  },
  "language_info": {
   "codemirror_mode": {
    "name": "ipython",
    "version": 3
   },
   "file_extension": ".py",
   "mimetype": "text/x-python",
   "name": "python",
   "nbconvert_exporter": "python",
   "pygments_lexer": "ipython3",
   "version": "3.11.13"
  }
 },
 "nbformat": 4,
 "nbformat_minor": 5
}
